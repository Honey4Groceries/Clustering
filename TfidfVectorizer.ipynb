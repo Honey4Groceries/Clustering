{
 "cells": [
  {
   "cell_type": "code",
   "execution_count": 10,
   "metadata": {},
   "outputs": [],
   "source": [
    "from sklearn.feature_extraction.text import TfidfVectorizer\n",
    "from sklearn.cluster import KMeans\n",
    "from sklearn.metrics import adjusted_rand_score\n",
    "\n",
    "\n",
    "#We have Muffins , Bread, and Cookies\n",
    "\n",
    "products = ['Thomas Original Nooks and Crannies English Muffins',\n",
    "        \"Jiffy Corn Muffin Mix\",\n",
    "        \"Bakery Fresh Goodness Blueberry Muffins\",\n",
    "        \"Blueberry Muffin Mix\",\n",
    "        \"Honey Cornbread and Muffin Mix\",\n",
    "        'Kroger® Round Top White Bread',\n",
    "        'Kroger® Enriched White Sandwich Bread',\n",
    "        'Natures Own Honey Wheat Bread',\n",
    "        'Oroweat Country White Bread',\n",
    "        'Western Hearth 12 Grain Bread',\n",
    "        \"Wonder Classic White Bread\"\n",
    "        'Daves Killer Bread 21 Whole Grains',\n",
    "        \"Bakery Fresh Goodness Chocolate Chip Cookies\",\n",
    "        \"Chocolate Chip Cookie Dough\",\n",
    "        \"Cinnamon Swirl Bread\"]"
   ]
  },
  {
   "cell_type": "code",
   "execution_count": 11,
   "metadata": {},
   "outputs": [
    {
     "data": {
      "text/plain": [
       "KMeans(algorithm='auto', copy_x=True, init='k-means++', max_iter=100,\n",
       "    n_clusters=3, n_init=1, n_jobs=None, precompute_distances='auto',\n",
       "    random_state=None, tol=0.0001, verbose=0)"
      ]
     },
     "execution_count": 11,
     "metadata": {},
     "output_type": "execute_result"
    }
   ],
   "source": [
    "vectorizer = TfidfVectorizer(stop_words='english')\n",
    "X = vectorizer.fit_transform(products)\n",
    "\n",
    "true_k = 3\n",
    "model = KMeans(n_clusters=true_k, init='k-means++', max_iter=100, n_init=1)\n",
    "model.fit(X)\n",
    "\n"
   ]
  },
  {
   "cell_type": "code",
   "execution_count": 8,
   "metadata": {},
   "outputs": [
    {
     "name": "stdout",
     "output_type": "stream",
     "text": [
      "Top terms per cluster:\n",
      "Cluster 0:\n",
      " bread\n",
      " white\n",
      " kroger\n",
      " cinnamon\n",
      " swirl\n",
      " round\n",
      " oroweat\n",
      " country\n",
      " wheat\n",
      " natures\n",
      "Cluster 1:\n",
      " chip\n",
      " chocolate\n",
      " fresh\n",
      " goodness\n",
      " bakery\n",
      " muffins\n",
      " cookie\n",
      " dough\n",
      " cookies\n",
      " blueberry\n",
      "Cluster 2:\n",
      " mix\n",
      " muffin\n",
      " blueberry\n",
      " cornbread\n",
      " jiffy\n",
      " corn\n",
      " honey\n",
      " wonder\n",
      " cookies\n",
      " dough\n"
     ]
    }
   ],
   "source": [
    "print(\"Top terms per cluster:\")\n",
    "order_centroids = model.cluster_centers_.argsort()[:, ::-1]\n",
    "terms = vectorizer.get_feature_names()\n",
    "for i in range(true_k):\n",
    "    print(\"Cluster %d:\" % i),\n",
    "    for ind in order_centroids[i, :10]:\n",
    "        print(' %s' % terms[ind]),"
   ]
  },
  {
   "cell_type": "code",
   "execution_count": 9,
   "metadata": {},
   "outputs": [
    {
     "name": "stdout",
     "output_type": "stream",
     "text": [
      "\n",
      "\n",
      "Prediction\n",
      "[1]\n",
      "[2]\n"
     ]
    }
   ],
   "source": [
    "print(\"\\n\")\n",
    "print(\"Prediction\")\n",
    "\n",
    "Y = vectorizer.transform([\"caramel cookies\"])\n",
    "prediction = model.predict(Y)\n",
    "print(prediction)\n",
    "\n",
    "Y = vectorizer.transform([\"rasberry muffin\"])\n",
    "prediction = model.predict(Y)\n",
    "print(prediction)"
   ]
  },
  {
   "cell_type": "code",
   "execution_count": 5,
   "metadata": {},
   "outputs": [
    {
     "data": {
      "text/plain": [
       "'/Users/petertran/Desktop/Honey/ML'"
      ]
     },
     "execution_count": 5,
     "metadata": {},
     "output_type": "execute_result"
    }
   ],
   "source": [
    "\n"
   ]
  },
  {
   "cell_type": "code",
   "execution_count": null,
   "metadata": {},
   "outputs": [],
   "source": []
  }
 ],
 "metadata": {
  "kernelspec": {
   "display_name": "Python 3",
   "language": "python",
   "name": "python3"
  },
  "language_info": {
   "codemirror_mode": {
    "name": "ipython",
    "version": 3
   },
   "file_extension": ".py",
   "mimetype": "text/x-python",
   "name": "python",
   "nbconvert_exporter": "python",
   "pygments_lexer": "ipython3",
   "version": "3.7.1"
  }
 },
 "nbformat": 4,
 "nbformat_minor": 2
}
