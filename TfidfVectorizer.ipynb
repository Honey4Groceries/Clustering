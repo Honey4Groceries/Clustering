{
 "cells": [
  {
   "cell_type": "code",
   "execution_count": 1,
   "metadata": {},
   "outputs": [],
   "source": [
    "from sklearn.feature_extraction.text import TfidfVectorizer #Term Frequency Inverse Document Frequency\n",
    "from sklearn.cluster import KMeans\n",
    "from sklearn.metrics import adjusted_rand_score\n",
    "\n",
    "\n",
    "#We have Muffins , Bread, and Cookies\n",
    "\n",
    "products = ['Thomas Original Nooks and Crannies English Muffins',\n",
    "        \"Jiffy Corn Muffin Mix\",\n",
    "        \"Bakery Fresh Goodness Blueberry Muffins\",\n",
    "        \"Blueberry Muffin Mix\",\n",
    "        \"Honey Muffin Mix\",\n",
    "        \"Thomas' Light Multigrain English Muffins\",\n",
    "        \"Bakery Fresh Goodness Lemon Poppyseed Muffins\",\n",
    "            \n",
    "        'Kroger® Round Top White Bread',\n",
    "        'Kroger® Enriched White Sandwich Bread',\n",
    "        'Natures Own Honey Wheat Bread',\n",
    "        'Oroweat Country White Bread',\n",
    "        'Western Hearth 12 Grain Bread',\n",
    "        \"Wonder Classic White Bread\"\n",
    "        'Daves Killer Bread 21 Whole Grains',\n",
    "        \"Oroweat 100% Whole Wheat Bread\",\n",
    "        \"Cinnamon Swirl Bread\",\n",
    "        \"p$$t... White Bread\",\n",
    "        \"Nature's Own 100% Whole Wheat Bread\",\n",
    "        \"Van De Kamp's Tender Twist Sandwich Bread\",\n",
    "        \n",
    "        \"CHIPS AHOY! Chewy Chocolate Chip Cookies\",\n",
    "        \"Keebler Chips Deluxe Rainbow Cookies\",\n",
    "        \"Pepperidge Farm Milano Milk Chocolate Cookies\",\n",
    "        \"Bakery Fresh Goodness Chocolate Chip Cookies\",\n",
    "        \"Chocolate Chip Cookie Dough\"]\n"
   ]
  },
  {
   "cell_type": "code",
   "execution_count": 2,
   "metadata": {},
   "outputs": [
    {
     "data": {
      "text/plain": [
       "KMeans(algorithm='auto', copy_x=True, init='k-means++', max_iter=100,\n",
       "    n_clusters=3, n_init=1, n_jobs=None, precompute_distances='auto',\n",
       "    random_state=None, tol=0.0001, verbose=0)"
      ]
     },
     "execution_count": 2,
     "metadata": {},
     "output_type": "execute_result"
    }
   ],
   "source": [
    "vectorizer = TfidfVectorizer(stop_words='english')\n",
    "X = vectorizer.fit_transform(products)\n",
    "\n",
    "true_k = 3\n",
    "model = KMeans(n_clusters=true_k, init='k-means++', max_iter=100, n_init=1)\n",
    "model.fit(X)\n",
    "\n"
   ]
  },
  {
   "cell_type": "code",
   "execution_count": 3,
   "metadata": {},
   "outputs": [
    {
     "name": "stdout",
     "output_type": "stream",
     "text": [
      "Top terms per cluster:\n",
      "Cluster 0:\n",
      " chocolate\n",
      " muffins\n",
      " cookies\n",
      " chip\n",
      " fresh\n",
      " goodness\n",
      " bakery\n",
      " chips\n",
      " thomas\n",
      " english\n",
      "Cluster 1:\n",
      " bread\n",
      " white\n",
      " wheat\n",
      " oroweat\n",
      " 100\n",
      " kroger\n",
      " sandwich\n",
      " swirl\n",
      " cinnamon\n",
      " round\n",
      "Cluster 2:\n",
      " muffin\n",
      " mix\n",
      " honey\n",
      " blueberry\n",
      " corn\n",
      " jiffy\n",
      " fresh\n",
      " farm\n",
      " goodness\n",
      " english\n"
     ]
    }
   ],
   "source": [
    "print(\"Top terms per cluster:\")\n",
    "order_centroids = model.cluster_centers_.argsort()[:, ::-1]\n",
    "terms = vectorizer.get_feature_names()\n",
    "for i in range(true_k):\n",
    "    print(\"Cluster %d:\" % i),\n",
    "    for ind in order_centroids[i, :10]:\n",
    "        print(' %s' % terms[ind]),"
   ]
  },
  {
   "cell_type": "code",
   "execution_count": 4,
   "metadata": {},
   "outputs": [
    {
     "name": "stdout",
     "output_type": "stream",
     "text": [
      "\n",
      "\n",
      "Prediction\n",
      "[0]\n",
      "[2]\n"
     ]
    }
   ],
   "source": [
    "print(\"\\n\")\n",
    "print(\"Prediction\")\n",
    "\n",
    "Y = vectorizer.transform([\"caramel cookies\"])\n",
    "prediction = model.predict(Y)\n",
    "print(prediction)\n",
    "\n",
    "Y = vectorizer.transform([\"rasberry muffin\"])\n",
    "prediction = model.predict(Y)\n",
    "print(prediction)"
   ]
  },
  {
   "cell_type": "code",
   "execution_count": 5,
   "metadata": {},
   "outputs": [
    {
     "data": {
      "text/plain": [
       "(23, 62)"
      ]
     },
     "execution_count": 5,
     "metadata": {},
     "output_type": "execute_result"
    }
   ],
   "source": [
    "X.shape\n"
   ]
  },
  {
   "cell_type": "code",
   "execution_count": 7,
   "metadata": {},
   "outputs": [
    {
     "data": {
      "image/png": "[encoded data removed]",
      "text/plain": [
       "<Figure size 432x288 with 1 Axes>"
      ]
     },
     "metadata": {
      "needs_background": "light"
     },
     "output_type": "display_data"
    }
   ],
   "source": [
    "from sklearn.feature_extraction.text import CountVectorizer, TfidfTransformer\n",
    "from sklearn.decomposition import PCA\n",
    "from sklearn.pipeline import Pipeline\n",
    "import matplotlib.pyplot as plt\n",
    "\n",
    "pipeline = Pipeline([\n",
    "    ('vect', CountVectorizer()),\n",
    "    ('tfidf', TfidfTransformer()),\n",
    "])        \n",
    "Y = pipeline.fit_transform(products).todense()\n",
    "\n",
    "pca = PCA(n_components=2).fit(Y)\n",
    "data2D = pca.transform(Y)\n",
    "plt.scatter(data2D[:,0], data2D[:,1])\n",
    "plt.show()          "
   ]
  },
  {
   "cell_type": "code",
   "execution_count": 9,
   "metadata": {},
   "outputs": [
    {
     "data": {
      "image/png": "[encoded data removed]",
      "text/plain": [
       "<Figure size 432x288 with 1 Axes>"
      ]
     },
     "metadata": {
      "needs_background": "light"
     },
     "output_type": "display_data"
    }
   ],
   "source": [
    "from sklearn.cluster import KMeans\n",
    "\n",
    "kmeans = KMeans(n_clusters=3).fit(Y)\n",
    "centers2D = pca.transform(kmeans.cluster_centers_)\n",
    "\n",
    "plt.scatter(centers2D[:,0], centers2D[:,1], \n",
    "            marker='x', s=200, linewidths=3, c='r')\n",
    "plt.show() "
   ]
  },
  {
   "cell_type": "code",
   "execution_count": null,
   "metadata": {},
   "outputs": [],
   "source": []
  }
 ],
 "metadata": {
  "kernelspec": {
   "display_name": "Python 3",
   "language": "python",
   "name": "python3"
  },
  "language_info": {
   "codemirror_mode": {
    "name": "ipython",
    "version": 3
   },
   "file_extension": ".py",
   "mimetype": "text/x-python",
   "name": "python",
   "nbconvert_exporter": "python",
   "pygments_lexer": "ipython3",
   "version": "3.7.1"
  }
 },
 "nbformat": 4,
 "nbformat_minor": 2
}
