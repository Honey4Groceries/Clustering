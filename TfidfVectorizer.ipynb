{
 "cells": [
  {
   "cell_type": "code",
   "execution_count": 20,
   "metadata": {},
   "outputs": [],
   "source": [
    "from sklearn.feature_extraction.text import TfidfVectorizer #Term Frequency Inverse Document Frequency\n",
    "from sklearn.cluster import KMeans\n",
    "from sklearn.metrics import adjusted_rand_score\n",
    "\n",
    "\n",
    "#For testing how well this method words, we will gather products from 3 categories. These\n",
    "#categories are, Muffins, Bread and Cookies. Thus, we can expect k = 3. \n",
    "\n",
    "products = ['Thomas Original Nooks and Crannies English Muffins',\n",
    "        \"Jiffy Corn Muffin Mix\",\n",
    "        \"Bakery Fresh Goodness Blueberry Muffins\",\n",
    "        \"Blueberry Muffin Mix\",\n",
    "        \"Honey Muffin Mix\",\n",
    "        \"Thomas' Light Multigrain English Muffins\",\n",
    "        \"Bakery Fresh Goodness Lemon Poppyseed Muffins\",\n",
    "            \n",
    "        'Kroger® Round Top White Bread',\n",
    "        'Kroger® Enriched White Sandwich Bread',\n",
    "        'Natures Own Honey Wheat Bread',\n",
    "        'Oroweat Country White Bread',\n",
    "        'Western Hearth 12 Grain Bread',\n",
    "        \"Wonder Classic White Bread\"\n",
    "        'Daves Killer Bread 21 Whole Grains',\n",
    "        \"Oroweat 100% Whole Wheat Bread\",\n",
    "        \"Cinnamon Swirl Bread\",\n",
    "        \"p$$t... White Bread\",\n",
    "        \"Nature's Own 100% Whole Wheat Bread\",\n",
    "        \"Van De Kamp's Tender Twist Sandwich Bread\",\n",
    "        \n",
    "        \"CHIPS AHOY! Chewy Chocolate Chip Cookies\",\n",
    "        \"Keebler Chips Deluxe Rainbow Cookies\",\n",
    "        \"Pepperidge Farm Milano Milk Chocolate Cookies\",\n",
    "        \"Bakery Fresh Goodness Chocolate Chip Cookies\",\n",
    "        \"Chocolate Chip Cookie Dough\"]\n"
   ]
  },
  {
   "cell_type": "code",
   "execution_count": 21,
   "metadata": {},
   "outputs": [
    {
     "data": {
      "image/png": "[encoded data removed]",
      "text/plain": [
       "<Figure size 432x288 with 1 Axes>"
      ]
     },
     "metadata": {
      "needs_background": "light"
     },
     "output_type": "display_data"
    }
   ],
   "source": [
    "from sklearn.feature_extraction.text import CountVectorizer, TfidfTransformer\n",
    "from sklearn.decomposition import PCA\n",
    "from sklearn.pipeline import Pipeline\n",
    "import matplotlib.pyplot as plt\n",
    "\n",
    "\n",
    "#first we will need to represent our product names as vectors. \n",
    "pipeline = Pipeline([\n",
    "    ('vect', CountVectorizer()),\n",
    "    ('tfidf', TfidfTransformer()),\n",
    "])        \n",
    "Y = pipeline.fit_transform(products).todense()\n",
    "\n",
    "\n",
    "#converting our multidimensional data into 2D so we can plot and visualize what we are working with.\n",
    "pca = PCA(n_components=2).fit(Y)\n",
    "data2D = pca.transform(Y)\n",
    "plt.scatter(data2D[:,0], data2D[:,1])\n",
    "plt.show()          "
   ]
  },
  {
   "cell_type": "markdown",
   "metadata": {},
   "source": [
    "We can clearly see the three groups that are within our data. Muffins, Bread, Cookies.\n",
    "We can double check by plotting the center of those groups. "
   ]
  },
  {
   "cell_type": "code",
   "execution_count": 22,
   "metadata": {},
   "outputs": [
    {
     "data": {
      "image/png": "[encoded data removed]",
      "text/plain": [
       "<Figure size 432x288 with 1 Axes>"
      ]
     },
     "metadata": {
      "needs_background": "light"
     },
     "output_type": "display_data"
    }
   ],
   "source": [
    "#Plotting the centers of our groups\n",
    "from sklearn.cluster import KMeans\n",
    "\n",
    "kmeans = KMeans(n_clusters=3).fit(Y)\n",
    "centers2D = pca.transform(kmeans.cluster_centers_)\n",
    "\n",
    "plt.scatter(data2D[:,0], data2D[:,1])\n",
    "plt.scatter(centers2D[:,0], centers2D[:,1], \n",
    "            marker='x', s=200, linewidths=3, c='r')\n",
    "\n",
    "plt.show() "
   ]
  },
  {
   "cell_type": "code",
   "execution_count": 23,
   "metadata": {},
   "outputs": [
    {
     "data": {
      "text/plain": [
       "KMeans(algorithm='auto', copy_x=True, init='k-means++', max_iter=100,\n",
       "    n_clusters=3, n_init=1, n_jobs=None, precompute_distances='auto',\n",
       "    random_state=None, tol=0.0001, verbose=0)"
      ]
     },
     "execution_count": 23,
     "metadata": {},
     "output_type": "execute_result"
    }
   ],
   "source": [
    "vectorizer = TfidfVectorizer(stop_words='english')\n",
    "X = vectorizer.fit_transform(products)\n",
    "\n",
    "#We know true_k =3 from our plots above\n",
    "true_k = 3\n",
    "model = KMeans(n_clusters=true_k, init='k-means++', max_iter=100, n_init=1)\n",
    "model.fit(X)\n",
    "\n"
   ]
  },
  {
   "cell_type": "code",
   "execution_count": 24,
   "metadata": {},
   "outputs": [
    {
     "name": "stdout",
     "output_type": "stream",
     "text": [
      "Top terms per cluster:\n",
      "Cluster 0:\n",
      " bread\n",
      " white\n",
      " wheat\n",
      " oroweat\n",
      " 100\n",
      " kroger\n",
      " sandwich\n",
      " muffins\n",
      " cinnamon\n",
      " swirl\n",
      "Cluster 1:\n",
      " mix\n",
      " muffin\n",
      " blueberry\n",
      " muffins\n",
      " honey\n",
      " jiffy\n",
      " corn\n",
      " light\n",
      " multigrain\n",
      " fresh\n",
      "Cluster 2:\n",
      " chocolate\n",
      " chip\n",
      " cookies\n",
      " dough\n",
      " cookie\n",
      " chewy\n",
      " ahoy\n",
      " farm\n",
      " pepperidge\n",
      " milano\n"
     ]
    }
   ],
   "source": [
    "print(\"Top terms per cluster:\")\n",
    "order_centroids = model.cluster_centers_.argsort()[:, ::-1]\n",
    "terms = vectorizer.get_feature_names()\n",
    "for i in range(true_k):\n",
    "    print(\"Cluster %d:\" % i),\n",
    "    for ind in order_centroids[i, :10]:\n",
    "        print(' %s' % terms[ind]),"
   ]
  },
  {
   "cell_type": "code",
   "execution_count": 25,
   "metadata": {},
   "outputs": [
    {
     "name": "stdout",
     "output_type": "stream",
     "text": [
      "\n",
      "\n",
      "Prediction\n",
      "[2]\n",
      "[1]\n"
     ]
    }
   ],
   "source": [
    "print(\"\\n\")\n",
    "print(\"Prediction\")\n",
    "\n",
    "Y = vectorizer.transform([\"caramel cookies\"])\n",
    "prediction = model.predict(Y)\n",
    "print(prediction)\n",
    "\n",
    "Y = vectorizer.transform([\"rasberry muffin\"])\n",
    "prediction = model.predict(Y)\n",
    "print(prediction)"
   ]
  },
  {
   "cell_type": "code",
   "execution_count": null,
   "metadata": {},
   "outputs": [],
   "source": []
  }
 ],
 "metadata": {
  "kernelspec": {
   "display_name": "Python 3",
   "language": "python",
   "name": "python3"
  },
  "language_info": {
   "codemirror_mode": {
    "name": "ipython",
    "version": 3
   },
   "file_extension": ".py",
   "mimetype": "text/x-python",
   "name": "python",
   "nbconvert_exporter": "python",
   "pygments_lexer": "ipython3",
   "version": "3.7.1"
  }
 },
 "nbformat": 4,
 "nbformat_minor": 2
}
